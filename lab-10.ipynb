{
 "cells": [
  {
   "cell_type": "code",
   "execution_count": 1,
   "id": "8152cc8f",
   "metadata": {
    "_cell_guid": "b1076dfc-b9ad-4769-8c92-a6c4dae69d19",
    "_uuid": "8f2839f25d086af736a60e9eeb907d3b93b6e0e5",
    "execution": {
     "iopub.execute_input": "2023-10-17T09:28:23.374947Z",
     "iopub.status.busy": "2023-10-17T09:28:23.374331Z",
     "iopub.status.idle": "2023-10-17T09:28:23.757568Z",
     "shell.execute_reply": "2023-10-17T09:28:23.756448Z"
    },
    "papermill": {
     "duration": 0.389122,
     "end_time": "2023-10-17T09:28:23.759947",
     "exception": false,
     "start_time": "2023-10-17T09:28:23.370825",
     "status": "completed"
    },
    "tags": []
   },
   "outputs": [
    {
     "name": "stdout",
     "output_type": "stream",
     "text": [
      "Original DataFrame:\n",
      "     A    B  C\n",
      "0  1.0  NaN  1\n",
      "1  2.0  2.0  2\n",
      "2  NaN  3.0  3\n",
      "3  4.0  4.0  4\n",
      "4  5.0  NaN  5\n",
      "\n",
      "DataFrame after dropping missing values:\n",
      "     A    B  C\n",
      "1  2.0  2.0  2\n",
      "3  4.0  4.0  4\n"
     ]
    }
   ],
   "source": [
    "#Program By :- Deep Bapodra\n",
    "#Enrollment :- 216270307077\n",
    "#Practical:10 Write a Pandas program to implement following operation\n",
    "#to find and drop the missing values from the given dataset\n",
    "\n",
    "\n",
    "import pandas as pd\n",
    "\n",
    "data = {'A': [1, 2, None, 4, 5],\n",
    "        'B': [None, 2, 3, 4, None],\n",
    "        'C': [1, 2, 3, 4, 5]}\n",
    "\n",
    "df = pd.DataFrame(data)\n",
    "print(\"Original DataFrame:\")\n",
    "print(df)\n",
    "\n",
    "df_cleaned = df.dropna()\n",
    "print(\"\\nDataFrame after dropping missing values:\")\n",
    "print(df_cleaned)"
   ]
  },
  {
   "cell_type": "code",
   "execution_count": 2,
   "id": "478620b6",
   "metadata": {
    "execution": {
     "iopub.execute_input": "2023-10-17T09:28:23.766615Z",
     "iopub.status.busy": "2023-10-17T09:28:23.766134Z",
     "iopub.status.idle": "2023-10-17T09:28:23.785241Z",
     "shell.execute_reply": "2023-10-17T09:28:23.784261Z"
    },
    "papermill": {
     "duration": 0.025452,
     "end_time": "2023-10-17T09:28:23.787249",
     "exception": false,
     "start_time": "2023-10-17T09:28:23.761797",
     "status": "completed"
    },
    "tags": []
   },
   "outputs": [
    {
     "name": "stdout",
     "output_type": "stream",
     "text": [
      "Original DataFrame:\n",
      "   A       B\n",
      "0  1   apple\n",
      "1  2  banana\n",
      "2  2  banana\n",
      "3  3  cherry\n",
      "4  4    date\n",
      "5  4    date\n",
      "\n",
      "DataFrame after removing duplicates:\n",
      "   A       B\n",
      "0  1   apple\n",
      "1  2  banana\n",
      "3  3  cherry\n",
      "4  4    date\n"
     ]
    }
   ],
   "source": [
    "#Program By :- Deep Bapodra\n",
    "#Enrollment :- 216270307077\n",
    "#Practical:10 Write a Pandas program to implement following operation\n",
    "#to remove the duplicates from the given dataset.\n",
    "\n",
    "\n",
    "import pandas as pd\n",
    "\n",
    "\n",
    "data = {'A': [1, 2, 2, 3, 4, 4],\n",
    "        'B': ['apple', 'banana', 'banana', 'cherry', 'date', 'date']}\n",
    "\n",
    "df = pd.DataFrame(data)\n",
    "\n",
    "\n",
    "print(\"Original DataFrame:\")\n",
    "print(df)\n",
    "\n",
    "\n",
    "df_no_duplicates = df.drop_duplicates()\n",
    "\n",
    "# Display the DataFrame after removing duplicates\n",
    "print(\"\\nDataFrame after removing duplicates:\")\n",
    "print(df_no_duplicates)"
   ]
  },
  {
   "cell_type": "code",
   "execution_count": null,
   "id": "9eaaadf4",
   "metadata": {
    "papermill": {
     "duration": 0.001406,
     "end_time": "2023-10-17T09:28:23.790493",
     "exception": false,
     "start_time": "2023-10-17T09:28:23.789087",
     "status": "completed"
    },
    "tags": []
   },
   "outputs": [],
   "source": []
  }
 ],
 "metadata": {
  "kernelspec": {
   "display_name": "Python 3",
   "language": "python",
   "name": "python3"
  },
  "language_info": {
   "codemirror_mode": {
    "name": "ipython",
    "version": 3
   },
   "file_extension": ".py",
   "mimetype": "text/x-python",
   "name": "python",
   "nbconvert_exporter": "python",
   "pygments_lexer": "ipython3",
   "version": "3.10.12"
  },
  "papermill": {
   "default_parameters": {},
   "duration": 3.955142,
   "end_time": "2023-10-17T09:28:24.210871",
   "environment_variables": {},
   "exception": null,
   "input_path": "__notebook__.ipynb",
   "output_path": "__notebook__.ipynb",
   "parameters": {},
   "start_time": "2023-10-17T09:28:20.255729",
   "version": "2.4.0"
  }
 },
 "nbformat": 4,
 "nbformat_minor": 5
}
