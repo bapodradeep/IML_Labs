{
 "cells": [
  {
   "cell_type": "code",
   "execution_count": 1,
   "id": "3def537f",
   "metadata": {
    "_cell_guid": "b1076dfc-b9ad-4769-8c92-a6c4dae69d19",
    "_uuid": "8f2839f25d086af736a60e9eeb907d3b93b6e0e5",
    "execution": {
     "iopub.execute_input": "2023-10-17T09:59:36.594910Z",
     "iopub.status.busy": "2023-10-17T09:59:36.593590Z",
     "iopub.status.idle": "2023-10-17T09:59:36.962590Z",
     "shell.execute_reply": "2023-10-17T09:59:36.961062Z"
    },
    "papermill": {
     "duration": 0.375462,
     "end_time": "2023-10-17T09:59:36.965638",
     "exception": false,
     "start_time": "2023-10-17T09:59:36.590176",
     "status": "completed"
    },
    "tags": []
   },
   "outputs": [
    {
     "name": "stdout",
     "output_type": "stream",
     "text": [
      "0      8\n",
      "1      3\n",
      "2    NaN\n",
      "3      7\n",
      "4    abc\n",
      "dtype: object\n",
      "0    False\n",
      "1    False\n",
      "2     True\n",
      "3    False\n",
      "4    False\n",
      "dtype: bool\n",
      "0     True\n",
      "1     True\n",
      "2    False\n",
      "3     True\n",
      "4     True\n",
      "dtype: bool\n"
     ]
    }
   ],
   "source": [
    "#Program By :- Deep Bapodra\n",
    "#Enrollment :- 216270307077\n",
    "#Practical 11: Write a Pandas program to filter all columns where all entries present,\n",
    "#check which rows and columns has a NaN and finally drop rows with any\n",
    "#NaNs from the given dataset.\n",
    "\n",
    "import pandas as pd\n",
    "import numpy as np\n",
    "s = pd.Series([8,3,np.nan,7,\"abc\"])\n",
    "print(s)\n",
    "print(s.isnull())\n",
    "print(s.notnull())"
   ]
  },
  {
   "cell_type": "code",
   "execution_count": null,
   "id": "35254f22",
   "metadata": {
    "papermill": {
     "duration": 0.00322,
     "end_time": "2023-10-17T09:59:36.971490",
     "exception": false,
     "start_time": "2023-10-17T09:59:36.968270",
     "status": "completed"
    },
    "tags": []
   },
   "outputs": [],
   "source": []
  }
 ],
 "metadata": {
  "kernelspec": {
   "display_name": "Python 3",
   "language": "python",
   "name": "python3"
  },
  "language_info": {
   "codemirror_mode": {
    "name": "ipython",
    "version": 3
   },
   "file_extension": ".py",
   "mimetype": "text/x-python",
   "name": "python",
   "nbconvert_exporter": "python",
   "pygments_lexer": "ipython3",
   "version": "3.10.12"
  },
  "papermill": {
   "default_parameters": {},
   "duration": 4.013551,
   "end_time": "2023-10-17T09:59:37.393537",
   "environment_variables": {},
   "exception": null,
   "input_path": "__notebook__.ipynb",
   "output_path": "__notebook__.ipynb",
   "parameters": {},
   "start_time": "2023-10-17T09:59:33.379986",
   "version": "2.4.0"
  }
 },
 "nbformat": 4,
 "nbformat_minor": 5
}
