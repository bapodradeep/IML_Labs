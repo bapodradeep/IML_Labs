{
 "cells": [
  {
   "cell_type": "code",
   "execution_count": 1,
   "id": "3f696ae8",
   "metadata": {
    "_cell_guid": "b1076dfc-b9ad-4769-8c92-a6c4dae69d19",
    "_uuid": "8f2839f25d086af736a60e9eeb907d3b93b6e0e5",
    "execution": {
     "iopub.execute_input": "2023-11-05T12:33:58.286223Z",
     "iopub.status.busy": "2023-11-05T12:33:58.285563Z",
     "iopub.status.idle": "2023-11-05T12:34:00.007621Z",
     "shell.execute_reply": "2023-11-05T12:34:00.005401Z"
    },
    "papermill": {
     "duration": 1.728187,
     "end_time": "2023-11-05T12:34:00.010233",
     "exception": false,
     "start_time": "2023-11-05T12:33:58.282046",
     "status": "completed"
    },
    "tags": []
   },
   "outputs": [
    {
     "name": "stdout",
     "output_type": "stream",
     "text": [
      "Accuracy of K-NN with k=3: 0.81\n"
     ]
    }
   ],
   "source": [
    "#Practical No.13: Write a Python program to implement K-Nearest Neighbour supervised\n",
    "#machine learning algorithm for given dataset.\n",
    "#Program By :- Deep Bapodra\n",
    "#Enrollment :- 216270307077\n",
    "\n",
    "from sklearn.model_selection import train_test_split\n",
    "from sklearn.neighbors import KNeighborsClassifier\n",
    "from sklearn import datasets\n",
    "from sklearn.metrics import accuracy_score\n",
    "data = datasets.load_wine()\n",
    "X = data.data  # Features\n",
    "y = data.target  # Target variable (class labels)\n",
    "\n",
    "X_train, X_test, y_train, y_test = train_test_split(X, y, test_size=0.2, random_state=42)\n",
    "k=3\n",
    "knn = KNeighborsClassifier(n_neighbors=k)\n",
    "\n",
    "# Train the classifier on the training data\n",
    "knn.fit(X_train, y_train)\n",
    "\n",
    "# Make predictions on the test data\n",
    "y_pred = knn.predict(X_test)\n",
    "\n",
    "# Calculate and print the accuracy of the K-NN model\n",
    "accuracy = accuracy_score(y_test, y_pred)\n",
    "print(f\"Accuracy of K-NN with k={k}: {accuracy:.2f}\")"
   ]
  },
  {
   "cell_type": "code",
   "execution_count": null,
   "id": "d1b01194",
   "metadata": {
    "papermill": {
     "duration": 0.003256,
     "end_time": "2023-11-05T12:34:00.015367",
     "exception": false,
     "start_time": "2023-11-05T12:34:00.012111",
     "status": "completed"
    },
    "tags": []
   },
   "outputs": [],
   "source": []
  }
 ],
 "metadata": {
  "kernelspec": {
   "display_name": "Python 3",
   "language": "python",
   "name": "python3"
  },
  "language_info": {
   "codemirror_mode": {
    "name": "ipython",
    "version": 3
   },
   "file_extension": ".py",
   "mimetype": "text/x-python",
   "name": "python",
   "nbconvert_exporter": "python",
   "pygments_lexer": "ipython3",
   "version": "3.10.12"
  },
  "papermill": {
   "default_parameters": {},
   "duration": 4.892949,
   "end_time": "2023-11-05T12:34:00.439156",
   "environment_variables": {},
   "exception": null,
   "input_path": "__notebook__.ipynb",
   "output_path": "__notebook__.ipynb",
   "parameters": {},
   "start_time": "2023-11-05T12:33:55.546207",
   "version": "2.4.0"
  }
 },
 "nbformat": 4,
 "nbformat_minor": 5
}
